{
 "cells": [
  {
   "cell_type": "code",
   "execution_count": null,
   "metadata": {
    "collapsed": true
   },
   "outputs": [],
   "source": [
    "import math, sys;"
   ]
  },
  {
   "cell_type": "code",
   "execution_count": null,
   "metadata": {
    "collapsed": true
   },
   "outputs": [],
   "source": [
    "def example1():\n",
    "    ####This is a long comment. This should be wrapped to fit within 72 characters.\n",
    "    some_tuple=(   1,2, 3,'a'  );\n",
    "    some_variable={'long':'Long code lines should be wrapped within 79 characters.',\n",
    "    'other':[math.pi, 100,200,300,9876543210,'This is a long string that goes on'],\n",
    "    'more':{'inner':'This whole logical line should be wrapped.',some_tuple:[1,\n",
    "    20,300,40000,500000000,60000000000000000]}}\n",
    "    return (some_tuple, some_variable)"
   ]
  },
  {
   "cell_type": "code",
   "execution_count": null,
   "metadata": {
    "collapsed": true
   },
   "outputs": [],
   "source": [
    "def example2(): return {'has_key() is deprecated':True}.has_key({'f':2}.has_key(''));"
   ]
  },
  {
   "cell_type": "code",
   "execution_count": null,
   "metadata": {
    "collapsed": true
   },
   "outputs": [],
   "source": [
    "class Example3(   object ):\n",
    "    def __init__    ( self, bar ):\n",
    "     #Comments should have a space after the hash.\n",
    "     if bar : bar+=1;  bar=bar* bar   ; return bar\n",
    "     else:\n",
    "                    some_string = \"\"\"\n",
    "                       Indentation in multiline strings should not be touched.\n",
    "Only actual code should be reindented.\n",
    "\"\"\"\n",
    "                    return (sys.path, some_string)"
   ]
  }
 ],
 "metadata": {
  "anaconda-cloud": {},
  "kernelspec": {
   "display_name": "Python [default]",
   "language": "python",
   "name": "python3"
  },
  "language_info": {
   "codemirror_mode": {
    "name": "ipython",
    "version": 3
   },
   "file_extension": ".py",
   "mimetype": "text/x-python",
   "name": "python",
   "nbconvert_exporter": "python",
   "pygments_lexer": "ipython3",
   "version": "3.5.1"
  }
 },
 "nbformat": 4,
 "nbformat_minor": 0
}
